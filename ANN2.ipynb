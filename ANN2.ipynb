{
 "cells": [
  {
   "cell_type": "code",
   "execution_count": 79,
   "id": "b4cefd20",
   "metadata": {},
   "outputs": [],
   "source": [
    "import numpy as np"
   ]
  },
  {
   "cell_type": "code",
   "execution_count": 80,
   "id": "b59da462",
   "metadata": {},
   "outputs": [],
   "source": [
    "x1=[0,0,1,1]\n",
    "x2=[0,1,0,1]\n",
    "w=[1,1,1,1]\n",
    "t=0.8"
   ]
  },
  {
   "cell_type": "code",
   "execution_count": 81,
   "id": "e52ae086",
   "metadata": {},
   "outputs": [],
   "source": [
    "def aggr(x1,x2,w):\n",
    "    arr=[]\n",
    "    for i in range(0,len(x1)):\n",
    "        x=x1[i]*w[i]\n",
    "        y=x2[i]*w[i]\n",
    "        x=x+y\n",
    "        arr.append(x)\n",
    "    return arr"
   ]
  },
  {
   "cell_type": "code",
   "execution_count": 82,
   "id": "5dfc88e8",
   "metadata": {},
   "outputs": [
    {
     "data": {
      "text/plain": [
       "[0, 1, 1, 2]"
      ]
     },
     "execution_count": 82,
     "metadata": {},
     "output_type": "execute_result"
    }
   ],
   "source": [
    "aggr(x1,x2,w)"
   ]
  },
  {
   "cell_type": "code",
   "execution_count": 83,
   "id": "44d157fa",
   "metadata": {},
   "outputs": [],
   "source": [
    "arr=aggr(x1,x2,w)"
   ]
  },
  {
   "cell_type": "code",
   "execution_count": 84,
   "id": "2d04d2bf",
   "metadata": {},
   "outputs": [],
   "source": [
    "def activ(arr):\n",
    "    output=[]\n",
    "    for i in range(len(arr)):\n",
    "        out=1/(1+np.exp(-arr[i]))\n",
    "        output.append(out)\n",
    "    return output"
   ]
  },
  {
   "cell_type": "code",
   "execution_count": 85,
   "id": "7bad43e2",
   "metadata": {},
   "outputs": [
    {
     "data": {
      "text/plain": [
       "[0.5, 0.7310585786300049, 0.7310585786300049, 0.8807970779778823]"
      ]
     },
     "execution_count": 85,
     "metadata": {},
     "output_type": "execute_result"
    }
   ],
   "source": [
    "activ(arr)"
   ]
  },
  {
   "cell_type": "code",
   "execution_count": 86,
   "id": "c6e5d5a4",
   "metadata": {},
   "outputs": [],
   "source": [
    "dec=activ(arr)"
   ]
  },
  {
   "cell_type": "code",
   "execution_count": 87,
   "id": "78b49ea9",
   "metadata": {},
   "outputs": [
    {
     "name": "stdout",
     "output_type": "stream",
     "text": [
      "[1, 1, 1, 0]\n"
     ]
    }
   ],
   "source": [
    "for i in range(len(dec)):\n",
    "    if(dec[i]>=t):\n",
    "        dec[i]=0\n",
    "    else:\n",
    "        dec[i]=1\n",
    "print(dec)"
   ]
  },
  {
   "cell_type": "code",
   "execution_count": null,
   "id": "a19d7358",
   "metadata": {},
   "outputs": [],
   "source": []
  }
 ],
 "metadata": {
  "kernelspec": {
   "display_name": "Python 3 (ipykernel)",
   "language": "python",
   "name": "python3"
  },
  "language_info": {
   "codemirror_mode": {
    "name": "ipython",
    "version": 3
   },
   "file_extension": ".py",
   "mimetype": "text/x-python",
   "name": "python",
   "nbconvert_exporter": "python",
   "pygments_lexer": "ipython3",
   "version": "3.11.5"
  }
 },
 "nbformat": 4,
 "nbformat_minor": 5
}
