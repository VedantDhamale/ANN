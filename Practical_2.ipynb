{
 "cells": [
  {
   "cell_type": "code",
   "execution_count": 22,
   "id": "f4080c43",
   "metadata": {},
   "outputs": [],
   "source": [
    "import numpy as np"
   ]
  },
  {
   "cell_type": "code",
   "execution_count": 36,
   "id": "94f11043",
   "metadata": {},
   "outputs": [],
   "source": [
    "x1=[0,0,1,1]\n",
    "x2=[0,1,0,1]\n",
    "w=[1,1,1,1]\n",
    "t=0.8"
   ]
  },
  {
   "cell_type": "code",
   "execution_count": 38,
   "id": "d77dd81d",
   "metadata": {},
   "outputs": [
    {
     "name": "stdout",
     "output_type": "stream",
     "text": [
      "1\n",
      "1\n",
      "1\n",
      "0\n"
     ]
    }
   ],
   "source": [
    "def sigmoid_fun(x):\n",
    "    sigmoid_val=1/(1+np.exp(-x))\n",
    "    return sigmoid_val\n",
    "\n",
    "def ANGate(x):\n",
    "    if x==1:\n",
    "        return 0\n",
    "    else:\n",
    "        return 1\n",
    "    \n",
    "for i in range(len(x1)):\n",
    "    sum=x1[i]*w[i]+x2[i]*w[i]\n",
    "    \n",
    "    if sigmoid_fun(sum)>=t:\n",
    "        Yout=1\n",
    "    else:\n",
    "        Yout=0\n",
    "    print(ANGate(Yout))\n",
    "    \n",
    "\n"
   ]
  },
  {
   "cell_type": "code",
   "execution_count": null,
   "id": "14690240",
   "metadata": {},
   "outputs": [],
   "source": []
  }
 ],
 "metadata": {
  "kernelspec": {
   "display_name": "Python 3 (ipykernel)",
   "language": "python",
   "name": "python3"
  },
  "language_info": {
   "codemirror_mode": {
    "name": "ipython",
    "version": 3
   },
   "file_extension": ".py",
   "mimetype": "text/x-python",
   "name": "python",
   "nbconvert_exporter": "python",
   "pygments_lexer": "ipython3",
   "version": "3.9.18"
  }
 },
 "nbformat": 4,
 "nbformat_minor": 5
}
